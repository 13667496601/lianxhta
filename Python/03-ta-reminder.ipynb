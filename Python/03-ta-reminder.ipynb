{
 "cells": [
  {
   "cell_type": "markdown",
   "id": "f3195825",
   "metadata": {},
   "source": [
    "```\n",
    "'''提示词\n",
    "我会发给你一个 {url}，你帮我整理出如下信息：\n",
    "\n",
    "\n",
    "\n",
    "巩倩，你这篇推文进展如何？\n",
    "blog_topic/OK-B799-巩倩：翻译：词向量的原理.md\n",
    "\n",
    "https://github.com/arlionn/lianxhta/blob/main/blog_topic/OK-B799-%E5%B7%A9%E5%80%A9%EF%BC%9A%E7%BF%BB%E8%AF%91%EF%BC%9A%E8%AF%8D%E5%90%91%E9%87%8F%E7%9A%84%E5%8E%9F%E7%90%86.md\n",
    "\n",
    "提交说明：\n",
    "'''\n",
    "\n",
    "```"
   ]
  },
  {
   "cell_type": "markdown",
   "id": "eb9938d0",
   "metadata": {},
   "source": []
  },
  {
   "cell_type": "markdown",
   "id": "456dc562",
   "metadata": {},
   "source": []
  }
 ],
 "metadata": {
  "language_info": {
   "name": "python"
  }
 },
 "nbformat": 4,
 "nbformat_minor": 5
}
